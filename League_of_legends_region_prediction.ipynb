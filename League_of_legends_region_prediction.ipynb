{
 "cells": [
  {
   "cell_type": "code",
   "execution_count": 2,
   "metadata": {},
   "outputs": [
    {
     "name": "stdout",
     "output_type": "stream",
     "text": [
      "(155, 7)\n"
     ]
    },
    {
     "data": {
      "text/html": [
       "<div>\n",
       "<style scoped>\n",
       "    .dataframe tbody tr th:only-of-type {\n",
       "        vertical-align: middle;\n",
       "    }\n",
       "\n",
       "    .dataframe tbody tr th {\n",
       "        vertical-align: top;\n",
       "    }\n",
       "\n",
       "    .dataframe thead th {\n",
       "        text-align: right;\n",
       "    }\n",
       "</style>\n",
       "<table border=\"1\" class=\"dataframe\">\n",
       "  <thead>\n",
       "    <tr style=\"text-align: right;\">\n",
       "      <th></th>\n",
       "      <th>story_full</th>\n",
       "      <th>story_short</th>\n",
       "      <th>name</th>\n",
       "      <th>race</th>\n",
       "      <th>role</th>\n",
       "      <th>secondary_role</th>\n",
       "      <th>region</th>\n",
       "    </tr>\n",
       "  </thead>\n",
       "  <tbody>\n",
       "    <tr>\n",
       "      <th>0</th>\n",
       "      <td>While most look at Jinx and see only a mad wom...</td>\n",
       "      <td>A manic and impulsive criminal from Zaun, Jinx...</td>\n",
       "      <td>Jinx</td>\n",
       "      <td>NaN</td>\n",
       "      <td>Marksman</td>\n",
       "      <td>NaN</td>\n",
       "      <td>zaun</td>\n",
       "    </tr>\n",
       "    <tr>\n",
       "      <th>1</th>\n",
       "      <td>One can travel to nearly any village across Io...</td>\n",
       "      <td>Jhin is a meticulous criminal psychopath who b...</td>\n",
       "      <td>Jhin</td>\n",
       "      <td>NaN</td>\n",
       "      <td>Marksman</td>\n",
       "      <td>Assassin</td>\n",
       "      <td>ionia</td>\n",
       "    </tr>\n",
       "    <tr>\n",
       "      <th>2</th>\n",
       "      <td>Soon after King Jarvan III’s coronation, he ad...</td>\n",
       "      <td>As the king’s only son, Prince Jarvan is heir ...</td>\n",
       "      <td>Jarvan IV</td>\n",
       "      <td>NaN</td>\n",
       "      <td>Tank</td>\n",
       "      <td>Fighter</td>\n",
       "      <td>demacia</td>\n",
       "    </tr>\n",
       "    <tr>\n",
       "      <th>3</th>\n",
       "      <td>Ivern the Cruel was renowned as a fierce warri...</td>\n",
       "      <td>Ivern, known to many as Bramblefoot or the Old...</td>\n",
       "      <td>Ivern</td>\n",
       "      <td>NaN</td>\n",
       "      <td>Support</td>\n",
       "      <td>Mage</td>\n",
       "      <td>ionia</td>\n",
       "    </tr>\n",
       "    <tr>\n",
       "      <th>4</th>\n",
       "      <td>Since ancient times, there have been those who...</td>\n",
       "      <td>An ancient and mysterious wind spirit, Janna h...</td>\n",
       "      <td>Janna</td>\n",
       "      <td>NaN</td>\n",
       "      <td>Support</td>\n",
       "      <td>Mage</td>\n",
       "      <td>zaun</td>\n",
       "    </tr>\n",
       "    <tr>\n",
       "      <th>...</th>\n",
       "      <td>...</td>\n",
       "      <td>...</td>\n",
       "      <td>...</td>\n",
       "      <td>...</td>\n",
       "      <td>...</td>\n",
       "      <td>...</td>\n",
       "      <td>...</td>\n",
       "    </tr>\n",
       "    <tr>\n",
       "      <th>150</th>\n",
       "      <td>Anivia is an ancient Freljordian demi-god who ...</td>\n",
       "      <td>Anivia is a benevolent winged spirit who endur...</td>\n",
       "      <td>Anivia</td>\n",
       "      <td>NaN</td>\n",
       "      <td>Mage</td>\n",
       "      <td>Support</td>\n",
       "      <td>freljord</td>\n",
       "    </tr>\n",
       "    <tr>\n",
       "      <th>151</th>\n",
       "      <td>Many civilizations have resisted Noxus, but no...</td>\n",
       "      <td>Always a mighty warrior with a fearsome reputa...</td>\n",
       "      <td>Alistar</td>\n",
       "      <td>NaN</td>\n",
       "      <td>Tank</td>\n",
       "      <td>Support</td>\n",
       "      <td>unaffiliated</td>\n",
       "    </tr>\n",
       "    <tr>\n",
       "      <th>152</th>\n",
       "      <td>A lonely and melancholy soul from ancient Shur...</td>\n",
       "      <td>Legend claims that Amumu is a lonely and melan...</td>\n",
       "      <td>Amumu</td>\n",
       "      <td>NaN</td>\n",
       "      <td>Tank</td>\n",
       "      <td>Mage</td>\n",
       "      <td>shurima</td>\n",
       "    </tr>\n",
       "    <tr>\n",
       "      <th>153</th>\n",
       "      <td>Ahri’s origins are a mystery, even to her.She ...</td>\n",
       "      <td>Innately connected to the magic of the spirit ...</td>\n",
       "      <td>Ahri</td>\n",
       "      <td>Vastaya</td>\n",
       "      <td>Mage</td>\n",
       "      <td>Assassin</td>\n",
       "      <td>ionia</td>\n",
       "    </tr>\n",
       "    <tr>\n",
       "      <th>154</th>\n",
       "      <td>Whether mistaken for a demon or god, many tale...</td>\n",
       "      <td>Once honored defenders of Shurima against the ...</td>\n",
       "      <td>Aatrox</td>\n",
       "      <td>Darkin</td>\n",
       "      <td>Fighter</td>\n",
       "      <td>Tank</td>\n",
       "      <td>unaffiliated</td>\n",
       "    </tr>\n",
       "  </tbody>\n",
       "</table>\n",
       "<p>155 rows × 7 columns</p>\n",
       "</div>"
      ],
      "text/plain": [
       "                                            story_full  \\\n",
       "0    While most look at Jinx and see only a mad wom...   \n",
       "1    One can travel to nearly any village across Io...   \n",
       "2    Soon after King Jarvan III’s coronation, he ad...   \n",
       "3    Ivern the Cruel was renowned as a fierce warri...   \n",
       "4    Since ancient times, there have been those who...   \n",
       "..                                                 ...   \n",
       "150  Anivia is an ancient Freljordian demi-god who ...   \n",
       "151  Many civilizations have resisted Noxus, but no...   \n",
       "152  A lonely and melancholy soul from ancient Shur...   \n",
       "153  Ahri’s origins are a mystery, even to her.She ...   \n",
       "154  Whether mistaken for a demon or god, many tale...   \n",
       "\n",
       "                                           story_short       name     race  \\\n",
       "0    A manic and impulsive criminal from Zaun, Jinx...       Jinx      NaN   \n",
       "1    Jhin is a meticulous criminal psychopath who b...       Jhin      NaN   \n",
       "2    As the king’s only son, Prince Jarvan is heir ...  Jarvan IV      NaN   \n",
       "3    Ivern, known to many as Bramblefoot or the Old...      Ivern      NaN   \n",
       "4    An ancient and mysterious wind spirit, Janna h...      Janna      NaN   \n",
       "..                                                 ...        ...      ...   \n",
       "150  Anivia is a benevolent winged spirit who endur...     Anivia      NaN   \n",
       "151  Always a mighty warrior with a fearsome reputa...    Alistar      NaN   \n",
       "152  Legend claims that Amumu is a lonely and melan...      Amumu      NaN   \n",
       "153  Innately connected to the magic of the spirit ...       Ahri  Vastaya   \n",
       "154  Once honored defenders of Shurima against the ...     Aatrox   Darkin   \n",
       "\n",
       "         role secondary_role        region  \n",
       "0    Marksman            NaN          zaun  \n",
       "1    Marksman       Assassin         ionia  \n",
       "2        Tank        Fighter       demacia  \n",
       "3     Support           Mage         ionia  \n",
       "4     Support           Mage          zaun  \n",
       "..        ...            ...           ...  \n",
       "150      Mage        Support      freljord  \n",
       "151      Tank        Support  unaffiliated  \n",
       "152      Tank           Mage       shurima  \n",
       "153      Mage       Assassin         ionia  \n",
       "154   Fighter           Tank  unaffiliated  \n",
       "\n",
       "[155 rows x 7 columns]"
      ]
     },
     "execution_count": 2,
     "metadata": {},
     "output_type": "execute_result"
    }
   ],
   "source": [
    "import pandas as pd\n",
    "\n",
    "df = pd.read_csv(\"league_of_legends_champion_data.csv\", sep=\",\")\n",
    "print(df.shape)\n",
    "df"
   ]
  },
  {
   "cell_type": "markdown",
   "metadata": {},
   "source": [
    "# Data\n",
    "As we can see, we have __155__ rows of __champions__ and __7__ rows containing:\n",
    "Stolpci so naslednji: \n",
    "1. whole story\n",
    "2. short story\n",
    "3. Champion's name\n",
    "4. Race\n",
    "5. Role\n",
    "6. Secondary role\n",
    "7. Region"
   ]
  },
  {
   "cell_type": "code",
   "execution_count": 3,
   "metadata": {},
   "outputs": [
    {
     "data": {
      "text/plain": [
       "story_full          0\n",
       "story_short         0\n",
       "name                0\n",
       "race              145\n",
       "role                0\n",
       "secondary_role     39\n",
       "region              0\n",
       "dtype: int64"
      ]
     },
     "execution_count": 3,
     "metadata": {},
     "output_type": "execute_result"
    }
   ],
   "source": [
    "df.isna().sum()"
   ]
  },
  {
   "cell_type": "markdown",
   "metadata": {},
   "source": [
    "39 champions do not have second role and there is 145 champions without a race.\n",
    "\n",
    "Because we do not have a large dataset (because it does not exist), we appreciate every data, therefore we can not delete champions, that do not have race or the secondary role. \n",
    "*We are not going to predict race, because we do not have enough data*\n",
    "\n",
    "Because we wont use champion's race, we will delete it form the dataset. \n",
    "We will also replace \"unaffiliated\" with \"runeterra\", so it is going to correspond to the actual region."
   ]
  },
  {
   "cell_type": "code",
   "execution_count": 4,
   "metadata": {},
   "outputs": [
    {
     "data": {
      "text/html": [
       "<div>\n",
       "<style scoped>\n",
       "    .dataframe tbody tr th:only-of-type {\n",
       "        vertical-align: middle;\n",
       "    }\n",
       "\n",
       "    .dataframe tbody tr th {\n",
       "        vertical-align: top;\n",
       "    }\n",
       "\n",
       "    .dataframe thead th {\n",
       "        text-align: right;\n",
       "    }\n",
       "</style>\n",
       "<table border=\"1\" class=\"dataframe\">\n",
       "  <thead>\n",
       "    <tr style=\"text-align: right;\">\n",
       "      <th></th>\n",
       "      <th>story_full</th>\n",
       "      <th>story_short</th>\n",
       "      <th>name</th>\n",
       "      <th>role</th>\n",
       "      <th>secondary_role</th>\n",
       "      <th>region</th>\n",
       "    </tr>\n",
       "  </thead>\n",
       "  <tbody>\n",
       "    <tr>\n",
       "      <th>0</th>\n",
       "      <td>While most look at Jinx and see only a mad wom...</td>\n",
       "      <td>A manic and impulsive criminal from Zaun, Jinx...</td>\n",
       "      <td>Jinx</td>\n",
       "      <td>Marksman</td>\n",
       "      <td>NaN</td>\n",
       "      <td>zaun</td>\n",
       "    </tr>\n",
       "    <tr>\n",
       "      <th>1</th>\n",
       "      <td>One can travel to nearly any village across Io...</td>\n",
       "      <td>Jhin is a meticulous criminal psychopath who b...</td>\n",
       "      <td>Jhin</td>\n",
       "      <td>Marksman</td>\n",
       "      <td>Assassin</td>\n",
       "      <td>ionia</td>\n",
       "    </tr>\n",
       "    <tr>\n",
       "      <th>2</th>\n",
       "      <td>Soon after King Jarvan III’s coronation, he ad...</td>\n",
       "      <td>As the king’s only son, Prince Jarvan is heir ...</td>\n",
       "      <td>Jarvan IV</td>\n",
       "      <td>Tank</td>\n",
       "      <td>Fighter</td>\n",
       "      <td>demacia</td>\n",
       "    </tr>\n",
       "    <tr>\n",
       "      <th>3</th>\n",
       "      <td>Ivern the Cruel was renowned as a fierce warri...</td>\n",
       "      <td>Ivern, known to many as Bramblefoot or the Old...</td>\n",
       "      <td>Ivern</td>\n",
       "      <td>Support</td>\n",
       "      <td>Mage</td>\n",
       "      <td>ionia</td>\n",
       "    </tr>\n",
       "    <tr>\n",
       "      <th>4</th>\n",
       "      <td>Since ancient times, there have been those who...</td>\n",
       "      <td>An ancient and mysterious wind spirit, Janna h...</td>\n",
       "      <td>Janna</td>\n",
       "      <td>Support</td>\n",
       "      <td>Mage</td>\n",
       "      <td>zaun</td>\n",
       "    </tr>\n",
       "    <tr>\n",
       "      <th>...</th>\n",
       "      <td>...</td>\n",
       "      <td>...</td>\n",
       "      <td>...</td>\n",
       "      <td>...</td>\n",
       "      <td>...</td>\n",
       "      <td>...</td>\n",
       "    </tr>\n",
       "    <tr>\n",
       "      <th>150</th>\n",
       "      <td>Anivia is an ancient Freljordian demi-god who ...</td>\n",
       "      <td>Anivia is a benevolent winged spirit who endur...</td>\n",
       "      <td>Anivia</td>\n",
       "      <td>Mage</td>\n",
       "      <td>Support</td>\n",
       "      <td>freljord</td>\n",
       "    </tr>\n",
       "    <tr>\n",
       "      <th>151</th>\n",
       "      <td>Many civilizations have resisted Noxus, but no...</td>\n",
       "      <td>Always a mighty warrior with a fearsome reputa...</td>\n",
       "      <td>Alistar</td>\n",
       "      <td>Tank</td>\n",
       "      <td>Support</td>\n",
       "      <td>runeterra</td>\n",
       "    </tr>\n",
       "    <tr>\n",
       "      <th>152</th>\n",
       "      <td>A lonely and melancholy soul from ancient Shur...</td>\n",
       "      <td>Legend claims that Amumu is a lonely and melan...</td>\n",
       "      <td>Amumu</td>\n",
       "      <td>Tank</td>\n",
       "      <td>Mage</td>\n",
       "      <td>shurima</td>\n",
       "    </tr>\n",
       "    <tr>\n",
       "      <th>153</th>\n",
       "      <td>Ahri’s origins are a mystery, even to her.She ...</td>\n",
       "      <td>Innately connected to the magic of the spirit ...</td>\n",
       "      <td>Ahri</td>\n",
       "      <td>Mage</td>\n",
       "      <td>Assassin</td>\n",
       "      <td>ionia</td>\n",
       "    </tr>\n",
       "    <tr>\n",
       "      <th>154</th>\n",
       "      <td>Whether mistaken for a demon or god, many tale...</td>\n",
       "      <td>Once honored defenders of Shurima against the ...</td>\n",
       "      <td>Aatrox</td>\n",
       "      <td>Fighter</td>\n",
       "      <td>Tank</td>\n",
       "      <td>runeterra</td>\n",
       "    </tr>\n",
       "  </tbody>\n",
       "</table>\n",
       "<p>155 rows × 6 columns</p>\n",
       "</div>"
      ],
      "text/plain": [
       "                                            story_full  \\\n",
       "0    While most look at Jinx and see only a mad wom...   \n",
       "1    One can travel to nearly any village across Io...   \n",
       "2    Soon after King Jarvan III’s coronation, he ad...   \n",
       "3    Ivern the Cruel was renowned as a fierce warri...   \n",
       "4    Since ancient times, there have been those who...   \n",
       "..                                                 ...   \n",
       "150  Anivia is an ancient Freljordian demi-god who ...   \n",
       "151  Many civilizations have resisted Noxus, but no...   \n",
       "152  A lonely and melancholy soul from ancient Shur...   \n",
       "153  Ahri’s origins are a mystery, even to her.She ...   \n",
       "154  Whether mistaken for a demon or god, many tale...   \n",
       "\n",
       "                                           story_short       name      role  \\\n",
       "0    A manic and impulsive criminal from Zaun, Jinx...       Jinx  Marksman   \n",
       "1    Jhin is a meticulous criminal psychopath who b...       Jhin  Marksman   \n",
       "2    As the king’s only son, Prince Jarvan is heir ...  Jarvan IV      Tank   \n",
       "3    Ivern, known to many as Bramblefoot or the Old...      Ivern   Support   \n",
       "4    An ancient and mysterious wind spirit, Janna h...      Janna   Support   \n",
       "..                                                 ...        ...       ...   \n",
       "150  Anivia is a benevolent winged spirit who endur...     Anivia      Mage   \n",
       "151  Always a mighty warrior with a fearsome reputa...    Alistar      Tank   \n",
       "152  Legend claims that Amumu is a lonely and melan...      Amumu      Tank   \n",
       "153  Innately connected to the magic of the spirit ...       Ahri      Mage   \n",
       "154  Once honored defenders of Shurima against the ...     Aatrox   Fighter   \n",
       "\n",
       "    secondary_role     region  \n",
       "0              NaN       zaun  \n",
       "1         Assassin      ionia  \n",
       "2          Fighter    demacia  \n",
       "3             Mage      ionia  \n",
       "4             Mage       zaun  \n",
       "..             ...        ...  \n",
       "150        Support   freljord  \n",
       "151        Support  runeterra  \n",
       "152           Mage    shurima  \n",
       "153       Assassin      ionia  \n",
       "154           Tank  runeterra  \n",
       "\n",
       "[155 rows x 6 columns]"
      ]
     },
     "execution_count": 4,
     "metadata": {},
     "output_type": "execute_result"
    }
   ],
   "source": [
    "df.drop(\"race\", axis=1, inplace=True)\n",
    "\n",
    "df.replace(to_replace=\"unaffiliated\", value=\"runeterra\", inplace=True)\n",
    "\n",
    "df"
   ]
  },
  {
   "cell_type": "code",
   "execution_count": 23,
   "metadata": {},
   "outputs": [
    {
     "name": "stdout",
     "output_type": "stream",
     "text": [
      "Number of champions with type of primary role\n",
      "role\n",
      "Assassin    19\n",
      "Fighter     42\n",
      "Mage        34\n",
      "Marksman    24\n",
      "Support     17\n",
      "Tank        19\n",
      "dtype: int64\n",
      "\n",
      "Number of champions with type of secodary role\n",
      "secondary_role\n",
      "Assassin    18\n",
      "Fighter     29\n",
      "Mage        25\n",
      "Marksman     4\n",
      "Melee        1\n",
      "Support     15\n",
      "Tank        24\n",
      "dtype: int64\n",
      "\n",
      "Number of champions in each region\n",
      "region\n",
      "bandle-city      7\n",
      "bilgewater       7\n",
      "demacia         14\n",
      "freljord        14\n",
      "ionia           21\n",
      "ixtal            6\n",
      "mount-targon     7\n",
      "noxus           14\n",
      "piltover         8\n",
      "runeterra       19\n",
      "shadow-isles     9\n",
      "shurima          9\n",
      "void             8\n",
      "zaun            12\n",
      "dtype: int64\n"
     ]
    }
   ],
   "source": [
    "print(\"Number of champions with type of primary role\")\n",
    "gb_primary_role = df.groupby(\"role\")\n",
    "print(gb_primary_role.size())\n",
    "\n",
    "print(\"\\nNumber of champions with type of secodary role\")\n",
    "gb_secondary_role = df.groupby(\"secondary_role\")\n",
    "print(gb_secondary_role.size())\n",
    "\n",
    "print(\"\\nNumber of champions in each region\")\n",
    "gb_region = df.groupby(\"region\")\n",
    "print(gb_region.size())"
   ]
  },
  {
   "cell_type": "markdown",
   "metadata": {},
   "source": [
    "### Primary role\n",
    "The most frequent primary role is **Fighter**.\n",
    "<br>\n",
    "The least frequest primary roles are **Assassin** and **Tank**.\n",
    "\n",
    "### Secodary role\n",
    "We have 116 champions, that have secondary role.\n",
    "\n",
    "\n",
    "The most frequent secondary role is **Fighter**.\n",
    "<br>\n",
    "The least frequest secodary role are **Melee**.\n",
    "\n",
    "### Region\n",
    "There's **13 regions in League of legends**. <br>\n",
    "The most frequent is **Ionia** and the least frequent is **Ixtal**. "
   ]
  },
  {
   "cell_type": "markdown",
   "metadata": {},
   "source": [
    "## Data graphs\n",
    "\n",
    "Number of champions in each region"
   ]
  },
  {
   "cell_type": "code",
   "execution_count": 438,
   "metadata": {},
   "outputs": [
    {
     "data": {
      "image/png": "[encoded data removed]",
      "text/plain": [
       "<Figure size 576x576 with 1 Axes>"
      ]
     },
     "metadata": {},
     "output_type": "display_data"
    }
   ],
   "source": [
    "import seaborn as sns\n",
    "import matplotlib.pyplot as plt\n",
    "sns.set(rc={'figure.figsize':(8,8)})\n",
    "graph = sns.countplot(y=\"region\", data=df)\n"
   ]
  },
  {
   "cell_type": "markdown",
   "metadata": {},
   "source": [
    "#### Number of champion with each primary role"
   ]
  },
  {
   "cell_type": "code",
   "execution_count": 432,
   "metadata": {},
   "outputs": [
    {
     "data": {
      "image/png": "[encoded data removed]",
      "text/plain": [
       "<Figure size 576x576 with 1 Axes>"
      ]
     },
     "metadata": {},
     "output_type": "display_data"
    }
   ],
   "source": [
    "graph = sns.countplot(y=\"role\", data=df)"
   ]
  },
  {
   "cell_type": "markdown",
   "metadata": {},
   "source": [
    "#### Number of champions with each secondary role"
   ]
  },
  {
   "cell_type": "code",
   "execution_count": 433,
   "metadata": {},
   "outputs": [
    {
     "data": {
      "image/png": "[encoded data removed]",
      "text/plain": [
       "<Figure size 576x576 with 1 Axes>"
      ]
     },
     "metadata": {},
     "output_type": "display_data"
    }
   ],
   "source": [
    "graph = sns.countplot(y=\"secondary_role\", data=df)"
   ]
  },
  {
   "cell_type": "markdown",
   "metadata": {},
   "source": [
    "# Text processing\n",
    "\n",
    "first we import all needed libraries"
   ]
  },
  {
   "cell_type": "code",
   "execution_count": 120,
   "metadata": {},
   "outputs": [],
   "source": [
    "from nltk.tokenize import word_tokenize\n",
    "from nltk.corpus import stopwords\n",
    "import string \n",
    "from nltk.stem import PorterStemmer\n",
    "from sklearn.feature_extraction.text import TfidfVectorizer\n",
    "from sklearn.naive_bayes import MultinomialNB\n",
    "from sklearn.model_selection import train_test_split\n",
    "#import nltk\n",
    "#nltk.download()\n",
    "\n",
    "\n",
    "stemmer = PorterStemmer()"
   ]
  },
  {
   "cell_type": "markdown",
   "metadata": {},
   "source": [
    "We define needed functions.\n",
    "\n",
    "first function **get_tokens_from_story** receives a string, which is a region name. Function then tokenizes and removes the stop words. Function returns all the tokens that are in the text.\n",
    "\n",
    "Second function **get_tokens_from_data** receives a data list, which contains text we want to get tokens from. Function tokenizes the text and removes the stop words from it."
   ]
  },
  {
   "cell_type": "code",
   "execution_count": 635,
   "metadata": {},
   "outputs": [],
   "source": [
    "def get_tokens_from_story(region_name: string):\n",
    "    champions_in_region = df.loc[df[\"region\"] == region_name]\n",
    "    whole_story_text = \"\"\n",
    "    # put stories from all champions into 1 row\n",
    "    for index, row in champions_in_region.iterrows():\n",
    "        whole_story_text += (\" \" + row[\"story_full\"])\n",
    "    tokens = word_tokenize(whole_story_text)  \n",
    "    tokens = [word.lower() for word in tokens]\n",
    "    stop_list = stopwords.words('english') + list(string.punctuation)\n",
    "    stop_list.append('’')\n",
    "    stop_list.append(region_name)\n",
    "    tokens_cleared = [token for token in tokens if token not in stop_list]\n",
    "    tokens = [stemmer.stem(word) for word in tokens_cleared]\n",
    "    return tokens\n",
    "\n",
    "def get_tokens_from_data(data):\n",
    "    tokens = word_tokenize(data)\n",
    "    tokens = [word.lower() for word in tokens]\n",
    "    stop_list = stopwords.words('english') + list(string.punctuation)\n",
    "    stop_list.append('’')\n",
    "    for name, row in gb_region:\n",
    "        stop_list.append(name)\n",
    "    tokens_cleared = [token for token in tokens if token not in stop_list]\n",
    "    tokens = [stemmer.stem(word) for word in tokens_cleared]\n",
    "    return \" \".join(tokens)"
   ]
  },
  {
   "cell_type": "markdown",
   "metadata": {},
   "source": [
    "Because there's most champion in region **Ionia**, let's check what are the most common unigrams, bigrams and trigrams for this region."
   ]
  },
  {
   "cell_type": "code",
   "execution_count": 636,
   "metadata": {},
   "outputs": [
    {
     "name": "stdout",
     "output_type": "stream",
     "text": [
      "would : 63\n",
      "could : 61\n",
      "one : 45\n",
      "spirit : 39\n",
      "yasuo : 37\n",
      "master : 36\n",
      "zed : 36\n",
      "noxian : 36\n",
      "land : 36\n",
      "even : 34\n"
     ]
    },
    {
     "data": {
      "image/png": "[encoded data removed]",
      "text/plain": [
       "<Figure size 432x288 with 1 Axes>"
      ]
     },
     "metadata": {},
     "output_type": "display_data"
    },
    {
     "name": "stdout",
     "output_type": "stream",
     "text": [
      "AxesSubplot(0.125,0.125;0.775x0.755)\n",
      "('first', 'land') : 20\n",
      "('great', 'master') : 8\n",
      "('spirit', 'realm') : 8\n",
      "('materi', 'realm') : 7\n",
      "('elder', 'souma') : 7\n",
      "('eye', 'twilight') : 7\n",
      "('lee', 'sin') : 7\n",
      "('golden', 'demon') : 6\n",
      "('master', 'kusho') : 6\n",
      "('order', 'shadow') : 6\n"
     ]
    },
    {
     "data": {
      "image/png": "[encoded data removed]",
      "text/plain": [
       "<Figure size 432x288 with 1 Axes>"
      ]
     },
     "metadata": {},
     "output_type": "display_data"
    },
    {
     "name": "stdout",
     "output_type": "stream",
     "text": [
      "AxesSubplot(0.125,0.125;0.775x0.755)\n",
      "('great', 'master', 'kusho') : 6\n",
      "('spirit', 'materi', 'realm') : 3\n",
      "('began', 'struggl', 'studi') : 2\n",
      "('spirit', 'blossom', 'festiv') : 2\n",
      "('jhin', 'young', 'zed') : 2\n",
      "('peac', 'first', 'land') : 2\n",
      "('renown', 'sword', 'school') : 2\n",
      "('master', 'legendari', 'wind') : 2\n",
      "('legendari', 'wind', 'techniqu') : 2\n",
      "('elder', 'souma', 'death') : 2\n"
     ]
    },
    {
     "data": {
      "image/png": "[encoded data removed]",
      "text/plain": [
       "<Figure size 432x288 with 1 Axes>"
      ]
     },
     "metadata": {},
     "output_type": "display_data"
    },
    {
     "name": "stdout",
     "output_type": "stream",
     "text": [
      "AxesSubplot(0.125,0.125;0.775x0.755)\n"
     ]
    }
   ],
   "source": [
    "from nltk import FreqDist, ngrams\n",
    "\n",
    "ionia_tokens = get_tokens_from_story(\"ionia\")\n",
    "unigram = FreqDist(ionia_tokens)\n",
    "for word, frequency in unigram.most_common(10):\n",
    "  print(str(word),\":\",frequency)\n",
    "\n",
    "print(unigram.plot(10, cumulative=False))\n",
    "\n",
    "bigram = FreqDist(ngrams(ionia_tokens, 2))\n",
    "for words, frequency in bigram.most_common(10):\n",
    "  print(str(words),\":\",frequency)\n",
    "\n",
    "print(bigram.plot(10, cumulative=False))\n",
    "\n",
    "trigram = FreqDist(ngrams(ionia_tokens, 3))\n",
    "for words, frequency in trigram.most_common(10):\n",
    "  print(str(words),\":\",frequency)\n",
    "\n",
    "print(trigram.plot(10, cumulative=False))\n"
   ]
  },
  {
   "cell_type": "markdown",
   "metadata": {},
   "source": [
    "## Machine learning\n",
    "\n",
    "Algorithm that we is used [MultinominalNB (Naive Bayes)](https://scikit-learn.org/stable/modules/generated/sklearn.naive_bayes.MultinomialNB.html).\n",
    "\n",
    "We first vectorized all the data with TfidfVectorizer. We used only unigrams and bigrams, because if we encluded more, our precision dropped. \n",
    "\n",
    "Preprocessor is the function described above.\n",
    "\n",
    "We used **67%** of the data for learning and **33%** for testing."
   ]
  },
  {
   "cell_type": "markdown",
   "metadata": {},
   "source": [
    "#### Whole story\n",
    "\n",
    "If we use **story_full** to predict the region, we get about 73% accuracy which is very high, considering the small dataframe we had. "
   ]
  },
  {
   "cell_type": "code",
   "execution_count": 637,
   "metadata": {},
   "outputs": [
    {
     "name": "stdout",
     "output_type": "stream",
     "text": [
      "Precision:  0.7307692307692307\n"
     ]
    }
   ],
   "source": [
    "from sklearn.metrics import f1_score\n",
    "from sklearn.metrics import accuracy_score\n",
    "\n",
    "vectorizer = TfidfVectorizer(ngram_range=(1,2), preprocessor=get_tokens_from_data)\n",
    "input_data = vectorizer.fit_transform(df['story_full'])\n",
    "\n",
    "X_train, X_test, y_train, y_test_fs = train_test_split(input_data, df['region'], test_size=0.33, random_state=665)\n",
    "clf = MultinomialNB(alpha=0.01)\n",
    "clf.fit(X_train, y_train)\n",
    "\n",
    "predictions_story_full = clf.predict(X_test)\n",
    "print(\"Precision: \",accuracy_score(y_test_fs, predictions_story_full))"
   ]
  },
  {
   "cell_type": "markdown",
   "metadata": {},
   "source": [
    "#### Story short\n",
    "If we use **story_short** (which represents short story a of champion) to predict the region, we get about 38% precision."
   ]
  },
  {
   "cell_type": "code",
   "execution_count": 638,
   "metadata": {},
   "outputs": [
    {
     "name": "stdout",
     "output_type": "stream",
     "text": [
      "Precision:  0.38461538461538464\n"
     ]
    }
   ],
   "source": [
    "vectorizer = TfidfVectorizer(ngram_range=(1,2), preprocessor=get_tokens_from_data)\n",
    "input_data = vectorizer.fit_transform(df['story_short'])\n",
    "\n",
    "X_train, X_test, y_train, y_test = train_test_split(input_data, df['region'], test_size=0.33, random_state=665)\n",
    "clf = MultinomialNB(alpha=0.01)\n",
    "clf.fit(X_train, y_train)\n",
    "predictions_story_short = clf.predict(X_test)\n",
    "print(\"Precision: \",accuracy_score(y_test, predictions_story_short))"
   ]
  },
  {
   "cell_type": "markdown",
   "metadata": {},
   "source": [
    "#### Full story - predicting role\n",
    "If we use **story_full** (which represents full story of a champion) to predict the region, we get about 30% precision."
   ]
  },
  {
   "cell_type": "code",
   "execution_count": 639,
   "metadata": {},
   "outputs": [
    {
     "name": "stdout",
     "output_type": "stream",
     "text": [
      "Precision:  0.3076923076923077\n"
     ]
    }
   ],
   "source": [
    "vectorizer = TfidfVectorizer(ngram_range=(1,2), preprocessor=get_tokens_from_data)\n",
    "input_data = vectorizer.fit_transform(df['story_full'])\n",
    "\n",
    "X_train, X_test, y_train, y_test = train_test_split(input_data, df['role'], test_size=0.33, random_state=22)\n",
    "clf = MultinomialNB(alpha=0.2)\n",
    "clf.fit(X_train, y_train)\n",
    "predictions_role = clf.predict(X_test)\n",
    "print(\"Precision: \",accuracy_score(y_test, predictions_role))"
   ]
  },
  {
   "cell_type": "markdown",
   "metadata": {},
   "source": [
    "We can not predict the role depending on the full story, because we get same result, as if we said that every champion is a **Fighter**\n",
    "\n",
    "Below we can see that the accuracy is the same if we use our algorithm or if we say that every champion is a **Fighter**. "
   ]
  },
  {
   "cell_type": "code",
   "execution_count": 640,
   "metadata": {},
   "outputs": [],
   "source": [
    "#Function that counts how many times algorithm has been correct\n",
    "def checkBothRoles(prediction: pd.Series, data: pd.DataFrame):\n",
    "    correctTimes = 0\n",
    "    i = 0\n",
    "    for index, row in y_test.items():\n",
    "        pri_role = data.iloc[index][\"role\"]\n",
    "        sec_role = data.iloc[index][\"secondary_role\"]\n",
    "        if (pri_role == predictions_role[i]) or (sec_role == predictions_role[i]):\n",
    "            correctTimes+=1\n",
    "        i+=1\n",
    "    return correctTimes\n",
    "\n",
    "#Function that returns secondary roles of testing data\n",
    "def checkSecRoles(prediction: pd.Series, data: pd.DataFrame):\n",
    "    roles=[]\n",
    "    i = 0\n",
    "    for index, row in y_test.items():\n",
    "        sec_role = data.iloc[index][\"secondary_role\"]\n",
    "        roles.append(sec_role)\n",
    "        i+=1\n",
    "    return roles"
   ]
  },
  {
   "cell_type": "code",
   "execution_count": 641,
   "metadata": {},
   "outputs": [
    {
     "name": "stdout",
     "output_type": "stream",
     "text": [
      "28\n",
      "28\n"
     ]
    }
   ],
   "source": [
    "onlyFighters = []\n",
    "for index in range(len(predictions_role)):\n",
    "    onlyFighters.append(\"Fighter\")    \n",
    "print(checkBothRoles(predictions_role, df))\n",
    "print(checkBothRoles(pd.Series(data=onlyFighters),df))\n"
   ]
  },
  {
   "cell_type": "markdown",
   "metadata": {},
   "source": [
    "# Predicting role - results\n",
    "\n",
    "On the left graph, we can see what algorith predicted and on the right graph, we can see actual primary role. We learned our alogithm with primary roles only.\n",
    "\n",
    "If we remember from the beginning we had 71 Fighters in total.\n",
    "\n",
    "On the first graph, we can see the actual classification of our test data. On the second graph we can see primary roles of the test data and on the third graph we can see secondary roles of the test data.\n",
    "\n",
    "We have 25 Fighters and 19 Mages."
   ]
  },
  {
   "cell_type": "code",
   "execution_count": 653,
   "metadata": {},
   "outputs": [
    {
     "data": {
      "text/plain": [
       "<AxesSubplot:ylabel='count'>"
      ]
     },
     "execution_count": 653,
     "metadata": {},
     "output_type": "execute_result"
    },
    {
     "data": {
      "image/png": "[encoded data removed]",
      "text/plain": [
       "<Figure size 1080x360 with 3 Axes>"
      ]
     },
     "metadata": {},
     "output_type": "display_data"
    }
   ],
   "source": [
    "fig, ax =plt.subplots(1,3)\n",
    "sns.set(rc={'figure.figsize':(15,5)})\n",
    "sns.countplot(x=predictions_role, ax=ax[0])\n",
    "sns.countplot(x=y_test,ax=ax[1])\n",
    "sns.countplot(x=checkSecRoles(predictions_role,df),ax=ax[2])"
   ]
  },
  {
   "cell_type": "markdown",
   "metadata": {},
   "source": [
    "# Predicting region - results\n",
    "\n",
    "We tried using different combinations of unigrams, bigrams and trigrams; but any other combination of those reduced the accuracy, so we decided to use only unigrams and bigrams. \n",
    "\n",
    "In first two graphs, we can see the difference between predicted and actual graphs. \n",
    "\n",
    "We can see that it's not totally different, but there are some differences. "
   ]
  },
  {
   "cell_type": "code",
   "execution_count": 655,
   "metadata": {},
   "outputs": [
    {
     "data": {
      "text/plain": [
       "<AxesSubplot:xlabel='count', ylabel='region'>"
      ]
     },
     "execution_count": 655,
     "metadata": {},
     "output_type": "execute_result"
    },
    {
     "data": {
      "image/png": "[encoded data removed]",
      "text/plain": [
       "<Figure size 576x612 with 2 Axes>"
      ]
     },
     "metadata": {},
     "output_type": "display_data"
    }
   ],
   "source": [
    "fig, ax =plt.subplots(2,1)\n",
    "sns.set(rc={'figure.figsize':(8,8.5)})\n",
    "predictions_story_full.sort(axis=0)\n",
    "sns.countplot(y=predictions_story_full, ax=ax[0])\n",
    "\n",
    "sns.countplot(y=y_test_fs.sort_values(), ax=ax[1])"
   ]
  },
  {
   "cell_type": "markdown",
   "metadata": {},
   "source": [
    "## Assumptions of errors \n",
    "\n",
    "We can see that in all Runeterra, Demacia and Ionia, word \"would\" is written many times, which may lead to the assumption, that a champion is from Runeterra region, when is actually for another region (for instance from Ionia)."
   ]
  },
  {
   "cell_type": "code",
   "execution_count": 656,
   "metadata": {},
   "outputs": [
    {
     "name": "stdout",
     "output_type": "stream",
     "text": [
      "\n",
      "Runeterra\n",
      "would : 51\n",
      "senna : 49\n",
      "one : 44\n",
      "could : 43\n",
      "world : 43\n",
      "lucian : 41\n",
      "time : 33\n",
      "even : 33\n",
      "mage : 26\n",
      "dark : 26\n",
      "\n",
      "Ionia\n",
      "would : 63\n",
      "could : 61\n",
      "one : 45\n",
      "spirit : 39\n",
      "yasuo : 37\n",
      "master : 36\n",
      "zed : 36\n",
      "noxian : 36\n",
      "land : 36\n",
      "even : 34\n",
      "\n",
      "Demacia\n",
      "would : 71\n",
      "one : 45\n",
      "vayn : 43\n",
      "magic : 39\n",
      "could : 37\n",
      "jarvan : 36\n",
      "famili : 33\n",
      "time : 33\n",
      "king : 27\n",
      "day : 27\n"
     ]
    }
   ],
   "source": [
    "runeterra_tokens = get_tokens_from_story(\"runeterra\")\n",
    "demacia_tokens = get_tokens_from_story(\"demacia\")\n",
    "\n",
    "\n",
    "print(\"\\nRuneterra\")\n",
    "unigram = FreqDist(runeterra_tokens)\n",
    "for word, frequency in unigram.most_common(10):\n",
    "  print(str(word),\":\",frequency)\n",
    "\n",
    "print(\"\\nIonia\")\n",
    "unigram = FreqDist(ionia_tokens)\n",
    "for word, frequency in unigram.most_common(10):\n",
    "  print(str(word),\":\",frequency)\n",
    "\n",
    "print(\"\\nDemacia\")\n",
    "unigram = FreqDist(demacia_tokens)\n",
    "for word, frequency in unigram.most_common(10):\n",
    "  print(str(word),\":\",frequency)"
   ]
  },
  {
   "cell_type": "markdown",
   "metadata": {},
   "source": [
    "If we look at Noxus' of Freljord's unigrams, we can see that there's a whole different unigrams,\\n \n",
    "for Noxus: \n",
    "- Empir\n",
    "- Noxian\n",
    "- Swain\n",
    "\n",
    "for Freljord:\n",
    "- Tribe\n",
    "- Freljord\n",
    "- Ice\n"
   ]
  },
  {
   "cell_type": "code",
   "execution_count": 658,
   "metadata": {},
   "outputs": [
    {
     "name": "stdout",
     "output_type": "stream",
     "text": [
      "\n",
      "Noxus\n",
      "could : 40\n",
      "empir : 33\n",
      "would : 32\n",
      "noxian : 32\n",
      "swain : 32\n",
      "even : 30\n",
      "gener : 30\n",
      "mani : 27\n",
      "one : 25\n",
      "rose : 23\n",
      "\n",
      "Freljord\n",
      "would : 58\n",
      "tribe : 53\n",
      "could : 40\n",
      "one : 37\n",
      "even : 30\n",
      "ash : 29\n",
      "ice : 26\n",
      "power : 25\n",
      "magic : 22\n",
      "mother : 22\n"
     ]
    }
   ],
   "source": [
    "noxus_tokens = get_tokens_from_story(\"noxus\")\n",
    "freljord_tokens = get_tokens_from_story(\"freljord\")\n",
    "\n",
    "print(\"\\nNoxus\")\n",
    "unigram = FreqDist(noxus_tokens)\n",
    "for word, frequency in unigram.most_common(10):\n",
    "  print(str(word),\":\",frequency)\n",
    "\n",
    "print(\"\\nFreljord\")\n",
    "unigram = FreqDist(freljord_tokens)\n",
    "for word, frequency in unigram.most_common(10):\n",
    "  print(str(word),\":\",frequency)"
   ]
  }
 ],
 "metadata": {
  "kernelspec": {
   "display_name": "Python 3",
   "language": "python",
   "name": "python3"
  },
  "language_info": {
   "codemirror_mode": {
    "name": "ipython",
    "version": 3
   },
   "file_extension": ".py",
   "mimetype": "text/x-python",
   "name": "python",
   "nbconvert_exporter": "python",
   "pygments_lexer": "ipython3",
   "version": "3.8.5"
  }
 },
 "nbformat": 4,
 "nbformat_minor": 4
}
